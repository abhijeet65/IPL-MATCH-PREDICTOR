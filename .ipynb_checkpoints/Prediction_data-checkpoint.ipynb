{
 "cells": [
  {
   "cell_type": "code",
   "execution_count": 41,
   "metadata": {},
   "outputs": [],
   "source": [
    "import pandas as pd\n",
    "import numpy as np\n",
    "import glob"
   ]
  },
  {
   "cell_type": "code",
   "execution_count": 42,
   "metadata": {},
   "outputs": [],
   "source": [
    "def teamcode(team_name):\n",
    "    #\tprint(team_name)\n",
    "    if team_name=='Mumbai Indians':\n",
    "        return 'MI'\n",
    "    if team_name== 'Rising Pune Supergiants' or team_name== 'Rising Pune Supergiant':\n",
    "        return 'RPS'\n",
    "    if team_name == 'Royal Challengers Bangalore':\n",
    "        return 'RCB'\n",
    "    if team_name == 'Delhi Daredevils':\n",
    "        return 'DD'\n",
    "    if team_name == 'Sunrisers Hyderabad':\n",
    "        return 'SH'\n",
    "    if team_name == 'Kings XI Punjab':\n",
    "        return 'KXIP'\n",
    "    if team_name == 'Kolkata Knight Riders':\n",
    "        return 'KKR'\n",
    "    if team_name == 'Gujarat Lions':\n",
    "        return 'GL'\n",
    "    if team_name == 'Deccan Chargers':\n",
    "        return 'DC'\n",
    "    if team_name == 'Chennai Super Kings':\n",
    "        return 'CSK'\n",
    "    if team_name == 'Rajasthan Royals':\n",
    "        return 'RR'\n",
    "    if team_name == 'Pune Warriors':\n",
    "        return 'PW'\n",
    "    if team_name == 'Kochi Tuskers Kerala':\n",
    "        return 'KTK'"
   ]
  },
  {
   "cell_type": "code",
   "execution_count": 43,
   "metadata": {},
   "outputs": [],
   "source": [
    "match_df=pd.read_csv(\"matches.csv\")"
   ]
  },
  {
   "cell_type": "code",
   "execution_count": 47,
   "metadata": {},
   "outputs": [
    {
     "name": "stderr",
     "output_type": "stream",
     "text": [
      "C:\\ProgramData\\Anaconda3\\lib\\site-packages\\ipykernel_launcher.py:9: FutureWarning: from_csv is deprecated. Please use read_csv(...) instead. Note that some of the default arguments are different, so please refer to the documentation for from_csv when changing your function calls\n",
      "  if __name__ == '__main__':\n"
     ]
    }
   ],
   "source": [
    "m_ses=0\n",
    "test_df={\"HardHitter\":[],\"FastScorer\":[],\"Bat_Average\":[],\"Economy\":[],\"WicketTaker\":[],\"Bowl_Average\":[],\"Result\":[]}\n",
    "dict={}\n",
    "for ind in match_df.index:\n",
    "    if(match_df['season'][ind]!=m_ses):\n",
    "        dict={}\n",
    "        m_ses=match_df['season'][ind]\n",
    "        for j in glob.glob('Team_Strength/season%s/*'%(m_ses)):\n",
    "            df=pd.DataFrame.from_csv(j)\n",
    "            if(df.empty):\n",
    "                continue\n",
    "            new_team=(j[25:].split('.'))[0]\n",
    "            dict[new_team]=df.mean(axis=0)\n",
    "    team1=teamcode(match_df['team1'][ind])\n",
    "    team2=teamcode(match_df['team2'][ind])\n",
    "    for key in dict[team1].keys():\n",
    "        test_df[key].append(dict[team1][key]-dict[team2][key])\n",
    "    if(teamcode(match_df['winner'][ind])==team1):\n",
    "        test_df[\"Result\"].append(1)\n",
    "    else:\n",
    "        test_df[\"Result\"].append(0)\n",
    "\n",
    "    \n",
    "        \n",
    "        "
   ]
  },
  {
   "cell_type": "code",
   "execution_count": 48,
   "metadata": {},
   "outputs": [],
   "source": [
    "pd.DataFrame(test_df).to_csv('prediction.csv')"
   ]
  },
  {
   "cell_type": "code",
   "execution_count": null,
   "metadata": {},
   "outputs": [],
   "source": []
  },
  {
   "cell_type": "code",
   "execution_count": null,
   "metadata": {},
   "outputs": [],
   "source": []
  }
 ],
 "metadata": {
  "kernelspec": {
   "display_name": "Python 3",
   "language": "python",
   "name": "python3"
  },
  "language_info": {
   "codemirror_mode": {
    "name": "ipython",
    "version": 3
   },
   "file_extension": ".py",
   "mimetype": "text/x-python",
   "name": "python",
   "nbconvert_exporter": "python",
   "pygments_lexer": "ipython3",
   "version": "3.7.3"
  }
 },
 "nbformat": 4,
 "nbformat_minor": 2
}
