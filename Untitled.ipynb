{
 "cells": [
  {
   "cell_type": "code",
   "execution_count": 23,
   "metadata": {},
   "outputs": [],
   "source": [
    "import pandas as pd  \n",
    "import numpy as np  \n",
    "import matplotlib.pyplot as plt  \n",
    "%matplotlib inline"
   ]
  },
  {
   "cell_type": "code",
   "execution_count": 24,
   "metadata": {},
   "outputs": [],
   "source": [
    "df = pd.read_csv(\"Prediction.csv\")  "
   ]
  },
  {
   "cell_type": "code",
   "execution_count": 25,
   "metadata": {},
   "outputs": [],
   "source": [
    "X = df.drop('Result', axis=1)  \n",
    "y = df['Result'] "
   ]
  },
  {
   "cell_type": "code",
   "execution_count": 71,
   "metadata": {},
   "outputs": [
    {
     "name": "stderr",
     "output_type": "stream",
     "text": [
      "C:\\ProgramData\\Anaconda3\\lib\\site-packages\\sklearn\\preprocessing\\data.py:645: DataConversionWarning: Data with input dtype int64, float64 were all converted to float64 by StandardScaler.\n",
      "  return self.partial_fit(X, y)\n",
      "C:\\ProgramData\\Anaconda3\\lib\\site-packages\\sklearn\\base.py:464: DataConversionWarning: Data with input dtype int64, float64 were all converted to float64 by StandardScaler.\n",
      "  return self.fit(X, **fit_params).transform(X)\n",
      "C:\\ProgramData\\Anaconda3\\lib\\site-packages\\ipykernel_launcher.py:6: DataConversionWarning: Data with input dtype int64, float64 were all converted to float64 by StandardScaler.\n",
      "  \n"
     ]
    }
   ],
   "source": [
    "from sklearn.model_selection import train_test_split  \n",
    "X_train, X_test, y_train, y_test = train_test_split(X, y, test_size = 0.20) \n",
    "from sklearn.preprocessing import StandardScaler \n",
    "sc_x=StandardScaler()\n",
    "X_train=sc_x.fit_transform(X_train)\n",
    "X_test=sc_x.transform(X_test)"
   ]
  },
  {
   "cell_type": "code",
   "execution_count": 83,
   "metadata": {},
   "outputs": [],
   "source": [
    "from sklearn.ensemble import RandomForestClassifier\n",
    "model = RandomForestClassifier(n_estimators=100, \n",
    "                               bootstrap = True,\n",
    "                               max_features = 'sqrt')\n",
    "model.fit(X_train, y_train)\n",
    "y_pred=model.predict(X_test)"
   ]
  },
  {
   "cell_type": "code",
   "execution_count": null,
   "metadata": {},
   "outputs": [],
   "source": [
    " "
   ]
  },
  {
   "cell_type": "code",
   "execution_count": 84,
   "metadata": {},
   "outputs": [
    {
     "name": "stdout",
     "output_type": "stream",
     "text": [
      "[[40 30]\n",
      " [29 29]]\n",
      "              precision    recall  f1-score   support\n",
      "\n",
      "           0       0.58      0.57      0.58        70\n",
      "           1       0.49      0.50      0.50        58\n",
      "\n",
      "   micro avg       0.54      0.54      0.54       128\n",
      "   macro avg       0.54      0.54      0.54       128\n",
      "weighted avg       0.54      0.54      0.54       128\n",
      "\n",
      "0.5390625\n"
     ]
    }
   ],
   "source": [
    "from sklearn.metrics import classification_report, confusion_matrix, accuracy_score\n",
    "\n",
    "print(confusion_matrix(y_test,y_pred))  \n",
    "print(classification_report(y_test,y_pred))  \n",
    "print(accuracy_score(y_test, y_pred))  "
   ]
  },
  {
   "cell_type": "code",
   "execution_count": 86,
   "metadata": {},
   "outputs": [
    {
     "name": "stdout",
     "output_type": "stream",
     "text": [
      "0 : 1\n",
      "1 : 1\n",
      "0 : 0\n",
      "0 : 0\n",
      "0 : 1\n",
      "0 : 1\n",
      "0 : 1\n",
      "1 : 0\n",
      "1 : 0\n",
      "0 : 0\n",
      "0 : 0\n",
      "0 : 1\n",
      "1 : 1\n",
      "0 : 1\n",
      "1 : 0\n",
      "0 : 0\n",
      "0 : 1\n",
      "1 : 1\n",
      "0 : 0\n",
      "1 : 1\n",
      "0 : 1\n",
      "1 : 1\n",
      "0 : 0\n",
      "0 : 0\n",
      "0 : 0\n",
      "0 : 0\n",
      "0 : 1\n",
      "1 : 0\n",
      "1 : 0\n",
      "0 : 1\n",
      "1 : 1\n",
      "0 : 1\n",
      "1 : 0\n",
      "1 : 1\n",
      "0 : 1\n",
      "0 : 1\n",
      "1 : 1\n",
      "0 : 0\n",
      "0 : 1\n",
      "0 : 1\n",
      "0 : 0\n",
      "0 : 0\n",
      "0 : 1\n",
      "0 : 1\n",
      "0 : 0\n",
      "0 : 1\n",
      "0 : 1\n",
      "0 : 0\n",
      "0 : 0\n",
      "1 : 0\n",
      "0 : 0\n",
      "1 : 0\n",
      "1 : 0\n",
      "1 : 0\n",
      "0 : 0\n",
      "1 : 1\n",
      "1 : 0\n",
      "1 : 1\n",
      "0 : 0\n",
      "0 : 0\n",
      "1 : 1\n",
      "0 : 0\n",
      "0 : 0\n",
      "1 : 0\n",
      "0 : 1\n",
      "1 : 0\n",
      "0 : 0\n",
      "1 : 0\n",
      "1 : 1\n",
      "1 : 1\n",
      "1 : 1\n",
      "1 : 1\n",
      "1 : 0\n",
      "1 : 1\n",
      "1 : 1\n",
      "1 : 0\n",
      "0 : 0\n",
      "1 : 1\n",
      "0 : 0\n",
      "0 : 0\n",
      "0 : 0\n",
      "0 : 0\n",
      "1 : 0\n",
      "1 : 1\n",
      "1 : 1\n",
      "0 : 0\n",
      "0 : 1\n",
      "1 : 1\n",
      "1 : 0\n",
      "0 : 0\n",
      "0 : 0\n",
      "0 : 1\n",
      "1 : 0\n",
      "0 : 0\n",
      "0 : 0\n",
      "1 : 1\n",
      "1 : 0\n",
      "0 : 1\n",
      "1 : 0\n",
      "1 : 0\n",
      "1 : 0\n",
      "0 : 1\n",
      "1 : 0\n",
      "1 : 0\n",
      "1 : 1\n",
      "1 : 1\n",
      "1 : 1\n",
      "0 : 1\n",
      "0 : 0\n",
      "1 : 1\n",
      "1 : 0\n",
      "0 : 0\n",
      "1 : 1\n",
      "0 : 0\n",
      "0 : 0\n",
      "1 : 1\n",
      "0 : 0\n",
      "0 : 1\n",
      "0 : 0\n",
      "1 : 0\n",
      "0 : 1\n",
      "1 : 0\n",
      "0 : 0\n",
      "1 : 1\n",
      "0 : 1\n",
      "1 : 0\n",
      "0 : 1\n",
      "0 : 1\n"
     ]
    }
   ],
   "source": [
    "i=0\n",
    "for ind in y_test.index:\n",
    "    print(\"%s : %s\"%(y_test[ind],y_pred[i]))\n",
    "    i+=1"
   ]
  },
  {
   "cell_type": "code",
   "execution_count": null,
   "metadata": {},
   "outputs": [],
   "source": []
  }
 ],
 "metadata": {
  "kernelspec": {
   "display_name": "Python 3",
   "language": "python",
   "name": "python3"
  },
  "language_info": {
   "codemirror_mode": {
    "name": "ipython",
    "version": 3
   },
   "file_extension": ".py",
   "mimetype": "text/x-python",
   "name": "python",
   "nbconvert_exporter": "python",
   "pygments_lexer": "ipython3",
   "version": "3.7.3"
  }
 },
 "nbformat": 4,
 "nbformat_minor": 2
}
