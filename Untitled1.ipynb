{
 "cells": [
  {
   "cell_type": "code",
   "execution_count": 4,
   "metadata": {},
   "outputs": [],
   "source": [
    "import pandas as pd\n",
    "import numpy as np\n",
    "import glob"
   ]
  },
  {
   "cell_type": "code",
   "execution_count": 5,
   "metadata": {},
   "outputs": [
    {
     "name": "stderr",
     "output_type": "stream",
     "text": [
      "C:\\ProgramData\\Anaconda3\\lib\\site-packages\\ipykernel_launcher.py:4: FutureWarning: from_csv is deprecated. Please use read_csv(...) instead. Note that some of the default arguments are different, so please refer to the documentation for from_csv when changing your function calls\n",
      "  after removing the cwd from sys.path.\n"
     ]
    }
   ],
   "source": [
    "import pandas as pd\n",
    "import numpy as np\n",
    "import glob\n",
    "pl_df=pd.DataFrame.from_csv(\"Player_Rating.csv\")\n",
    "for i in range(0,10):\n",
    "    for j in glob.glob('Season/season%s/*'%(2008+i)):\n",
    "        team_name=j[18:]\n",
    "        df=pd.read_csv(j)\n",
    "        df=df.sort_values(by='count',ascending=0)\n",
    "        if(df.empty):\n",
    "            continue\n",
    "        team_df={'Name':[],'HardHitter':[],'FastScorer':[],'Bat_Average':[],'Economy':[],'WicketTaker':[],'Bowl_Average':[]}\n",
    "        for ind in range(0,12):\n",
    "            player=df[\"name\"][ind]\n",
    "            for key in pl_df.keys():\n",
    "                team_df[key].append(pl_df[key][player])\n",
    "            team_df['Name'].append(player)\n",
    "               \n",
    "        pd.DataFrame(team_df).to_csv(\"Team_Strength/season%s/%s\"%(2008+i,team_name))"
   ]
  },
  {
   "cell_type": "code",
   "execution_count": null,
   "metadata": {},
   "outputs": [],
   "source": [
    "for in range(2008,2017):\n",
    "    dict=\n",
    "    "
   ]
  }
 ],
 "metadata": {
  "kernelspec": {
   "display_name": "Python 3",
   "language": "python",
   "name": "python3"
  },
  "language_info": {
   "codemirror_mode": {
    "name": "ipython",
    "version": 3
   },
   "file_extension": ".py",
   "mimetype": "text/x-python",
   "name": "python",
   "nbconvert_exporter": "python",
   "pygments_lexer": "ipython3",
   "version": "3.7.3"
  }
 },
 "nbformat": 4,
 "nbformat_minor": 2
}
