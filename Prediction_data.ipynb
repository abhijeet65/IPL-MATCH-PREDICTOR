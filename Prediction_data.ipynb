{
 "cells": [
  {
   "cell_type": "code",
   "execution_count": 39,
   "metadata": {},
   "outputs": [],
   "source": [
    "import pandas as pd\n",
    "import numpy as np\n",
    "import glob"
   ]
  },
  {
   "cell_type": "code",
   "execution_count": 40,
   "metadata": {},
   "outputs": [],
   "source": [
    "def teamcode(team_name):\n",
    "    #\tprint(team_name)\n",
    "    if team_name=='Mumbai Indians':\n",
    "        return 'MI'\n",
    "    if team_name== 'Rising Pune Supergiants' or team_name== 'Rising Pune Supergiant':\n",
    "        return 'RPS'\n",
    "    if team_name == 'Royal Challengers Bangalore':\n",
    "        return 'RCB'\n",
    "    if team_name == 'Delhi Daredevils':\n",
    "        return 'DD'\n",
    "    if team_name == 'Sunrisers Hyderabad':\n",
    "        return 'SH'\n",
    "    if team_name == 'Kings XI Punjab':\n",
    "        return 'KXIP'\n",
    "    if team_name == 'Kolkata Knight Riders':\n",
    "        return 'KKR'\n",
    "    if team_name == 'Gujarat Lions':\n",
    "        return 'GL'\n",
    "    if team_name == 'Deccan Chargers':\n",
    "        return 'DC'\n",
    "    if team_name == 'Chennai Super Kings':\n",
    "        return 'CSK'\n",
    "    if team_name == 'Rajasthan Royals':\n",
    "        return 'RR'\n",
    "    if team_name == 'Pune Warriors':\n",
    "        return 'PW'\n",
    "    if team_name == 'Kochi Tuskers Kerala':\n",
    "        return 'KTK'\n",
    "    \n",
    "def teamnumber(team_name):\n",
    "    #\tprint(team_name)\n",
    "    if team_name=='Mumbai Indians':\n",
    "        return 1\n",
    "    if team_name== 'Rising Pune Supergiants' or team_name== 'Rising Pune Supergiant':\n",
    "        return 2\n",
    "    if team_name == 'Royal Challengers Bangalore':\n",
    "        return 3\n",
    "    if team_name == 'Delhi Daredevils':\n",
    "        return 4\n",
    "    if team_name == 'Sunrisers Hyderabad':\n",
    "        return 5\n",
    "    if team_name == 'Kings XI Punjab':\n",
    "        return 6\n",
    "    if team_name == 'Kolkata Knight Riders':\n",
    "        return 7\n",
    "    if team_name == 'Gujarat Lions':\n",
    "        return 8\n",
    "    if team_name == 'Deccan Chargers':\n",
    "        return 9\n",
    "    if team_name == 'Chennai Super Kings':\n",
    "        return 10\n",
    "    if team_name == 'Rajasthan Royals':\n",
    "        return 11\n",
    "    if team_name == 'Pune Warriors':\n",
    "        return 12\n",
    "    if team_name == 'Kochi Tuskers Kerala':\n",
    "        return 13"
   ]
  },
  {
   "cell_type": "code",
   "execution_count": 41,
   "metadata": {},
   "outputs": [],
   "source": [
    "match_df=pd.read_csv(\"matches.csv\")\n",
    "match_df['city'].fillna('dubai',inplace=True)\n",
    "from sklearn.preprocessing import LabelEncoder\n",
    "var_mod = ['city','toss_decision','venue']\n",
    "le = LabelEncoder()\n",
    "for i in var_mod:\n",
    "    match_df[i] = le.fit_transform(match_df[i])"
   ]
  },
  {
   "cell_type": "code",
   "execution_count": 42,
   "metadata": {},
   "outputs": [
    {
     "name": "stderr",
     "output_type": "stream",
     "text": [
      "c:\\users\\abhijeet saraf\\appdata\\local\\programs\\python\\python35\\lib\\site-packages\\ipykernel_launcher.py:10: FutureWarning: from_csv is deprecated. Please use read_csv(...) instead. Note that some of the default arguments are different, so please refer to the documentation for from_csv when changing your function calls\n",
      "  # Remove the CWD from sys.path while we load stuff.\n"
     ]
    }
   ],
   "source": [
    "m_ses=0\n",
    "i=1;\n",
    "test_df={'city':[],'venue':[],'toss_decision':[],\"team1\":[],\"team2\":[],\"Toss\":[],\"HardHitter\":[],\"FastScorer\":[],\"Bat_Average\":[],\"Economy\":[],\"WicketTaker\":[],\"Bowl_Average\":[],\"Winner\":[],\"win_fact\":[]}\n",
    "dict={}\n",
    "for ind in match_df.index:\n",
    "    if(match_df['season'][ind]!=m_ses):\n",
    "        dict={}\n",
    "        m_ses=match_df['season'][ind]\n",
    "        for j in glob.glob('Team_Strength/season%s/*'%(m_ses)):\n",
    "            df=pd.DataFrame.from_csv(j)\n",
    "            if(df.empty):\n",
    "                continue\n",
    "            new_team=(j[25:].split('.'))[0]\n",
    "            dict[new_team]=df.mean(axis=0)\n",
    "    team1=match_df['team1'][ind]\n",
    "    team2=match_df['team2'][ind]\n",
    "    test_df[\"team1\"].append(teamnumber(team1))\n",
    "    test_df[\"team2\"].append(teamnumber(team2))\n",
    "    for key in dict[teamcode(team1)].keys():\n",
    "        test_df[key].append(round(dict[teamcode(team1)][key]-dict[teamcode(team2)][key],2))\n",
    "    if(i%7==0):\n",
    "        if(match_df['winner'][ind]==team1):\n",
    "            test_df['win_fact'].append(teamnumber(team2))\n",
    "        else:\n",
    "            test_df['win_fact'].append(teamnumber(team1))\n",
    "    else:\n",
    "        if(match_df['winner'][ind]==team1):\n",
    "            test_df['win_fact'].append(teamnumber(team1))\n",
    "        else:\n",
    "            test_df['win_fact'].append(teamnumber(team2))\n",
    "    i+=1;\n",
    "    if(match_df['winner'][ind]==team1):\n",
    "        test_df['Winner'].append(teamnumber(team1))\n",
    "    else:\n",
    "        test_df['Winner'].append(teamnumber(team2))\n",
    "    if(teamcode(match_df['toss_winner'][ind])==team1):\n",
    "        test_df['Toss'].append(teamnumber(team1))\n",
    "    else:\n",
    "        test_df['Toss'].append(teamnumber(team2))\n",
    "    test_df['city'].append(match_df['city'][ind])\n",
    "    test_df['venue'].append(match_df['venue'][ind])\n",
    "    test_df['toss_decision'].append(match_df['toss_decision'][ind])"
   ]
  },
  {
   "cell_type": "code",
   "execution_count": 43,
   "metadata": {},
   "outputs": [],
   "source": [
    "pd.DataFrame(test_df).to_csv('prediction.csv')"
   ]
  },
  {
   "cell_type": "code",
   "execution_count": null,
   "metadata": {},
   "outputs": [],
   "source": []
  },
  {
   "cell_type": "code",
   "execution_count": null,
   "metadata": {},
   "outputs": [],
   "source": []
  }
 ],
 "metadata": {
  "kernelspec": {
   "display_name": "Python 3",
   "language": "python",
   "name": "python3"
  },
  "language_info": {
   "codemirror_mode": {
    "name": "ipython",
    "version": 3
   },
   "file_extension": ".py",
   "mimetype": "text/x-python",
   "name": "python",
   "nbconvert_exporter": "python",
   "pygments_lexer": "ipython3",
   "version": "3.5.2"
  }
 },
 "nbformat": 4,
 "nbformat_minor": 2
}
