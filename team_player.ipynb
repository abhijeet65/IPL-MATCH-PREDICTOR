{
 "cells": [
  {
   "cell_type": "code",
   "execution_count": 1,
   "metadata": {},
   "outputs": [],
   "source": [
    "import pandas as pd\n",
    "import numpy as np\n"
   ]
  },
  {
   "cell_type": "code",
   "execution_count": 2,
   "metadata": {},
   "outputs": [],
   "source": [
    "\n",
    "def teamcode(team_name):\n",
    "    #\tprint(team_name)\n",
    "    if team_name=='Mumbai Indians':\n",
    "          return 'MI'\n",
    "    if team_name== 'Rising Pune Supergiants' or team_name== 'Rising Pune Supergiant':\n",
    "          return 'RPS'\n",
    "    if team_name == 'Royal Challengers Bangalore':\n",
    "          return 'RCB'\n",
    "    if team_name == 'Delhi Daredevils':\n",
    "        return 'DD'\n",
    "    if team_name == 'Sunrisers Hyderabad':\n",
    "        return 'SH'\n",
    "    if team_name == 'Kings XI Punjab':\n",
    "        return 'KXIP'\n",
    "    if team_name == 'Kolkata Knight Riders':\n",
    "        return 'KKR'\n",
    "    if team_name == 'Gujarat Lions':\n",
    "         return 'GL'\n",
    "    if team_name == 'Deccan Chargers':\n",
    "        return 'DC'\n",
    "    if team_name == 'Chennai Super Kings':\n",
    "        return 'CSK'\n",
    "    if team_name == 'Rajasthan Royals':\n",
    "        return 'RR'\n",
    "    if team_name == 'Pune Warriors':\n",
    "        return 'PW'\n",
    "    if team_name == 'Kochi Tuskers Kerala':\n",
    "        return 'KTK'"
   ]
  },
  {
   "cell_type": "code",
   "execution_count": 3,
   "metadata": {},
   "outputs": [],
   "source": [
    "del_df=pd.read_csv(\"deliveries.csv\")\n",
    "match_df=pd.read_csv(\"matches.csv\")"
   ]
  },
  {
   "cell_type": "code",
   "execution_count": 4,
   "metadata": {},
   "outputs": [],
   "source": [
    "ses_no=0\n",
    "m_id=0\n",
    "pl_list=[]\n",
    "df={\"CSK\":[],\"RCB\":[],\"PW\":[],\"KTK\":[],\"KKR\":[],\"KXIP\":[],\"GL\":[],\"SH\":[],\"RR\":[],\"DC\":[],\"DD\":[],\"RPS\":[],\"MI\":[]}\n",
    "dict={}\n",
    "for ind in del_df.index:\n",
    "    if(match_df['season'][del_df['match_id'][ind]-1]!=ses_no):\n",
    "        if(ses_no!=0):\n",
    "            for key in df.keys():\n",
    "                new_df={'name':[],'count':[]}\n",
    "                for pl in df[key]:\n",
    "                    new_df['name'].append(pl)\n",
    "                    new_df['count'].append(dict[pl])\n",
    "                pd.DataFrame(new_df).to_csv(\"Season/season%s/%s.csv\"%(ses_no,key))  \n",
    "        dict={}    \n",
    "        ses_no=match_df['season'][del_df['match_id'][ind]-1]\n",
    "        df={\"CSK\":[],\"RCB\":[],\"PW\":[],\"KTK\":[],\"KKR\":[],\"KXIP\":[],\"GL\":[],\"SH\":[],\"RR\":[],\"DC\":[],\"DD\":[],\"RPS\":[],\"MI\":[]}\n",
    "    if del_df['batsman'][ind] not in df[teamcode(del_df['batting_team'][ind])]:\n",
    "        df[teamcode(del_df['batting_team'][ind])].append(del_df['batsman'][ind])\n",
    "    if del_df['bowler'][ind] not in df[teamcode(del_df['bowling_team'][ind])]:\n",
    "        df[teamcode(del_df['bowling_team'][ind])].append(del_df['bowler'][ind])\n",
    "    if(m_id!=del_df['match_id'][ind]):\n",
    "        pl_list=[]\n",
    "        m_id=del_df['match_id'][ind]\n",
    "    if  del_df['batsman'][ind] not in pl_list:\n",
    "        dict[del_df['batsman'][ind]]=dict.get(del_df['batsman'][ind],0)+1\n",
    "        pl_list.append(del_df['batsman'][ind])\n",
    "    if  del_df['bowler'][ind] not in pl_list:\n",
    "        dict[del_df['bowler'][ind]]=dict.get(del_df['bowler'][ind],0)+1\n",
    "        pl_list.append(del_df['bowler'][ind])\n",
    "for key in df.keys():\n",
    "    new_df={'name':[],'count':[]}\n",
    "    for pl in df[key]:\n",
    "        new_df['name'].append(pl)\n",
    "        new_df['count'].append(dict[pl])\n",
    "        pd.DataFrame(new_df).to_csv(\"Season/season2016/%s.csv\"%(key))   \n",
    "        \n",
    "        "
   ]
  },
  {
   "cell_type": "code",
   "execution_count": null,
   "metadata": {},
   "outputs": [],
   "source": []
  },
  {
   "cell_type": "code",
   "execution_count": null,
   "metadata": {},
   "outputs": [],
   "source": []
  }
 ],
 "metadata": {
  "kernelspec": {
   "display_name": "Python 3",
   "language": "python",
   "name": "python3"
  },
  "language_info": {
   "codemirror_mode": {
    "name": "ipython",
    "version": 3
   },
   "file_extension": ".py",
   "mimetype": "text/x-python",
   "name": "python",
   "nbconvert_exporter": "python",
   "pygments_lexer": "ipython3",
   "version": "3.5.2"
  }
 },
 "nbformat": 4,
 "nbformat_minor": 2
}
